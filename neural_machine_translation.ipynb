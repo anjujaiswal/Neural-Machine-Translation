{
 "cells": [
  {
   "cell_type": "markdown",
   "metadata": {},
   "source": [
    "# NEURAL MACHINE TRANSLATION"
   ]
  },
  {
   "cell_type": "markdown",
   "metadata": {},
   "source": [
    "### Dataset: http://www.manythings.org/anki/"
   ]
  },
  {
   "cell_type": "code",
   "execution_count": 1,
   "metadata": {},
   "outputs": [],
   "source": [
    "# import the required libraries:\n",
    "import os, sys\n",
    "from keras.models import Model\n",
    "from keras.layers import Input, LSTM, GRU, Dense, Embedding\n",
    "from keras.preprocessing.text import Tokenizer\n",
    "from keras.preprocessing.sequence import pad_sequences\n",
    "#import keras.utils\n",
    "from tensorflow.keras.utils import to_categorical\n",
    "import numpy as np\n",
    "import pickle\n",
    "import matplotlib.pyplot as plt"
   ]
  },
  {
   "cell_type": "code",
   "execution_count": 2,
   "metadata": {},
   "outputs": [],
   "source": [
    "#Execute this script to set values for different parameters:\n",
    "BATCH_SIZE = 64\n",
    "EPOCHS = 20\n",
    "LSTM_NODES =256\n",
    "NUM_SENTENCES = 20000\n",
    "MAX_SENTENCE_LENGTH = 50\n",
    "MAX_NUM_WORDS = 20000\n",
    "EMBEDDING_SIZE = 200"
   ]
  },
  {
   "cell_type": "markdown",
   "metadata": {},
   "source": [
    "## DATA PREPROCESSING"
   ]
  },
  {
   "cell_type": "code",
   "execution_count": 3,
   "metadata": {},
   "outputs": [
    {
     "name": "stdout",
     "output_type": "stream",
     "text": [
      "Number of sample input: 20000\n",
      "Number of sample output: 20000\n",
      "Number of sample output input: 20000\n"
     ]
    }
   ],
   "source": [
    "input_sentences = []\n",
    "output_sentences = []\n",
    "output_sentences_inputs = []\n",
    "\n",
    "count = 0\n",
    "for line in open('fra-eng/fra.txt', encoding=\"utf-8\"):\n",
    "    count += 1\n",
    "    if count > NUM_SENTENCES:\n",
    "        break\n",
    "    if '\\t' not in line:\n",
    "        continue\n",
    "    input_sentence = line.rstrip().split('\\t')[0]\n",
    "    output = line.rstrip().split('\\t')[1]\n",
    "\n",
    "    output_sentence = output + ' <eos>'\n",
    "    output_sentence_input = '<sos> ' + output\n",
    "\n",
    "    input_sentences.append(input_sentence)\n",
    "    output_sentences.append(output_sentence)\n",
    "    output_sentences_inputs.append(output_sentence_input)\n",
    "\n",
    "print(\"Number of sample input:\", len(input_sentences))\n",
    "print(\"Number of sample output:\", len(output_sentences))\n",
    "print(\"Number of sample output input:\", len(output_sentences_inputs))"
   ]
  },
  {
   "cell_type": "code",
   "execution_count": 4,
   "metadata": {},
   "outputs": [
    {
     "name": "stdout",
     "output_type": "stream",
     "text": [
      "English sentence:  Beat it.\n",
      "French translation:  Casse-toi de là. <eos>\n"
     ]
    }
   ],
   "source": [
    "print(\"English sentence: \",input_sentences[180])\n",
    "print(\"French translation: \",output_sentences[180])"
   ]
  },
  {
   "cell_type": "markdown",
   "metadata": {},
   "source": [
    "## TOKENIZATION AND PADDING"
   ]
  },
  {
   "cell_type": "code",
   "execution_count": 5,
   "metadata": {},
   "outputs": [
    {
     "data": {
      "image/png": "[encoded data removed]",
      "text/plain": [
       "<Figure size 432x288 with 2 Axes>"
      ]
     },
     "metadata": {
      "needs_background": "light"
     },
     "output_type": "display_data"
    }
   ],
   "source": [
    "# let’s visualise the length of the sentences.\n",
    "import pandas as pd\n",
    "\n",
    "eng_len = []\n",
    "fren_len = []\n",
    "\n",
    "# populate the lists with sentence lengths\n",
    "for i in input_sentences:\n",
    "      eng_len.append(len(i.split()))  \n",
    "\n",
    "for i in output_sentences:\n",
    "      fren_len.append(len(i.split()))\n",
    "\n",
    "length_df = pd.DataFrame({'english':eng_len, 'french':fren_len})\n",
    "\n",
    "length_df.hist(bins = 20)\n",
    "plt.show()"
   ]
  },
  {
   "cell_type": "code",
   "execution_count": 6,
   "metadata": {},
   "outputs": [
    {
     "name": "stdout",
     "output_type": "stream",
     "text": [
      "Total unique words in the input: 3439\n",
      "Length of longest sentence in input: 5\n"
     ]
    }
   ],
   "source": [
    "#tokenize the input sentences(input language) \n",
    "input_tokenizer = Tokenizer(num_words=MAX_NUM_WORDS)\n",
    "input_tokenizer.fit_on_texts(input_sentences)\n",
    "input_integer_seq = input_tokenizer.texts_to_sequences(input_sentences)\n",
    "\n",
    "\n",
    "word2idx_inputs = input_tokenizer.word_index\n",
    "print('Total unique words in the input: %s' % len(word2idx_inputs))\n",
    "\n",
    "max_input_len = max(len(sen) for sen in input_integer_seq)\n",
    "print(\"Length of longest sentence in input: %g\" % max_input_len)\n",
    "\n",
    "#with open('input_tokenizer_NMT.pickle', 'wb') as handle:\n",
    "#    pickle.dump(input_tokenizer, handle, protocol=4)"
   ]
  },
  {
   "cell_type": "code",
   "execution_count": 7,
   "metadata": {},
   "outputs": [
    {
     "name": "stdout",
     "output_type": "stream",
     "text": [
      "Total unique words in the output: 9495\n",
      "Length of longest sentence in the output: 12\n"
     ]
    }
   ],
   "source": [
    "#tokenize the output sentences(Output language)\n",
    "output_tokenizer = Tokenizer(num_words=MAX_NUM_WORDS, filters='')\n",
    "output_tokenizer.fit_on_texts(output_sentences + output_sentences_inputs)\n",
    "output_integer_seq = output_tokenizer.texts_to_sequences(output_sentences)\n",
    "output_input_integer_seq = output_tokenizer.texts_to_sequences(output_sentences_inputs)\n",
    "\n",
    "word2idx_outputs = output_tokenizer.word_index\n",
    "print('Total unique words in the output: %s' % len(word2idx_outputs))\n",
    "\n",
    "num_words_output = len(word2idx_outputs) + 1\n",
    "max_out_len = max(len(sen) for sen in output_integer_seq)\n",
    "print(\"Length of longest sentence in the output: %g\" % max_out_len)\n",
    "\n",
    "#with open('output_tokenizer_NMT.pickle', 'wb') as handle:\n",
    "#    pickle.dump(output_tokenizer, handle, protocol=4)"
   ]
  },
  {
   "cell_type": "code",
   "execution_count": 8,
   "metadata": {},
   "outputs": [
    {
     "name": "stdout",
     "output_type": "stream",
     "text": [
      "encoder_input_sequences.shape: (20000, 5)\n",
      "encoder_input_sequences[180]: [  0   0   0 303   4]\n"
     ]
    }
   ],
   "source": [
    "encoder_input_sequences = pad_sequences(input_integer_seq, maxlen=max_input_len)\n",
    "print(\"encoder_input_sequences.shape:\", encoder_input_sequences.shape)\n",
    "print(\"encoder_input_sequences[180]:\", encoder_input_sequences[180])"
   ]
  },
  {
   "cell_type": "code",
   "execution_count": 9,
   "metadata": {},
   "outputs": [
    {
     "name": "stdout",
     "output_type": "stream",
     "text": [
      "535\n",
      "56\n"
     ]
    }
   ],
   "source": [
    "print(word2idx_inputs[\"join\"])\n",
    "print(word2idx_inputs[\"us\"])"
   ]
  },
  {
   "cell_type": "code",
   "execution_count": 10,
   "metadata": {},
   "outputs": [
    {
     "name": "stdout",
     "output_type": "stream",
     "text": [
      "decoder_input_sequences.shape: (20000, 12)\n",
      "decoder_input_sequences[180]: [   2 4556   14  127    0    0    0    0    0    0    0    0]\n"
     ]
    }
   ],
   "source": [
    "decoder_input_sequences = pad_sequences(output_input_integer_seq, maxlen=max_out_len, padding='post')\n",
    "print(\"decoder_input_sequences.shape:\", decoder_input_sequences.shape)\n",
    "print(\"decoder_input_sequences[180]:\", decoder_input_sequences[180])"
   ]
  },
  {
   "cell_type": "code",
   "execution_count": 11,
   "metadata": {},
   "outputs": [
    {
     "name": "stdout",
     "output_type": "stream",
     "text": [
      "2\n",
      "2715\n",
      "19\n",
      "219\n"
     ]
    }
   ],
   "source": [
    "print(word2idx_outputs[\"<sos>\"])\n",
    "print(word2idx_outputs[\"joignez-vous\"])\n",
    "print(word2idx_outputs[\"à\"])\n",
    "print(word2idx_outputs[\"nous.\"])"
   ]
  },
  {
   "cell_type": "code",
   "execution_count": 12,
   "metadata": {},
   "outputs": [
    {
     "name": "stdout",
     "output_type": "stream",
     "text": [
      "decoder_output_sequences.shape: (20000, 12)\n"
     ]
    }
   ],
   "source": [
    "decoder_output_sequences = pad_sequences(output_integer_seq, maxlen=max_out_len, padding='post')\n",
    "print(\"decoder_output_sequences.shape:\", decoder_output_sequences.shape)"
   ]
  },
  {
   "cell_type": "markdown",
   "metadata": {},
   "source": [
    "## WORD EMBEDDINGS"
   ]
  },
  {
   "cell_type": "markdown",
   "metadata": {},
   "source": [
    "### LINK - https://www.kaggle.com/fullmetal26/glovetwitter27b100dtxt/discussion"
   ]
  },
  {
   "cell_type": "markdown",
   "metadata": {},
   "source": [
    "#### For English sentences, i.e. the inputs, we will use the GloVe word embeddings. For the translated French sentences in the output, we will use custom word embeddings.\n",
    "\n",
    "#### Let's create word embeddings for the inputs first. To do so, we need to load the GloVe word vectors into memory. We will then create a dictionary where words are the keys and the corresponding vectors are values,"
   ]
  },
  {
   "cell_type": "code",
   "execution_count": 13,
   "metadata": {},
   "outputs": [],
   "source": [
    "from numpy import array\n",
    "from numpy import asarray\n",
    "from numpy import zeros\n",
    "\n",
    "embeddings_dictionary = dict()\n",
    "\n",
    "glove_file = open('archive/glove.twitter.27B.200d.txt', encoding=\"utf8\")\n",
    "\n",
    "for line in glove_file:\n",
    "    rec = line.split()\n",
    "    word = rec[0]\n",
    "    vector_dimensions = asarray(rec[1:], dtype='float32')\n",
    "    embeddings_dictionary[word] = vector_dimensions\n",
    "glove_file.close()"
   ]
  },
  {
   "cell_type": "code",
   "execution_count": 14,
   "metadata": {},
   "outputs": [
    {
     "name": "stdout",
     "output_type": "stream",
     "text": [
      "[-3.7239e-01  4.7634e-01 -1.9666e-01 -1.1641e+00  1.2820e-02 -4.7063e-01\n",
      "  4.4522e-01  1.8911e-01  5.6740e-01 -6.1915e-02  2.7159e-01 -1.7613e-01\n",
      " -5.4897e-01 -1.6782e-01  3.0910e-01  1.0253e-01  4.3412e-01 -4.0300e-02\n",
      "  3.4782e-02  2.8017e-01  1.6735e-01 -5.3730e-02 -5.9838e-01 -6.7251e-02\n",
      " -7.0371e-01  1.0674e+00  4.1123e-01  2.6227e-01 -3.2041e-01  5.2882e-01\n",
      "  3.6446e-01  1.3661e-01 -2.2680e-01  6.6556e-01  3.4684e-01 -4.1284e-01\n",
      "  5.5050e-01  3.5691e-01  3.6985e-01 -3.1312e-01  9.2343e-02  1.7105e-01\n",
      " -1.5200e-01  6.4297e-02  2.2327e-01  2.9222e-01 -7.3356e-01 -4.6585e-02\n",
      " -2.1011e-01  1.2690e-01  3.1638e-01 -5.1846e-01  2.2601e-02 -1.6426e-01\n",
      " -8.4231e-02 -6.5978e-02 -1.4436e-01 -2.2150e-01  4.2886e-01  3.0813e-01\n",
      " -1.0191e-03  5.9619e-01  1.7514e-01  5.3788e-01 -6.3198e-01  1.5236e-01\n",
      " -1.9268e-01  5.8482e-03  6.8425e-01  5.9576e-01  4.4315e-01  3.5061e-01\n",
      "  1.8628e-01  8.6317e-01  2.1811e-01 -2.6925e-02  1.4113e-01 -6.5218e-03\n",
      " -1.8793e-01 -7.6275e-01 -1.9529e-01 -3.8076e-01  2.4531e-01 -9.6168e-02\n",
      "  9.9905e-01 -4.4919e-01  2.7007e-01 -8.1641e-02  2.0172e-01 -3.0940e-01\n",
      "  2.1268e-01 -3.3724e-01 -4.4451e-02  3.7221e-02  3.9271e-01 -4.4238e-01\n",
      " -3.6380e-02  2.6630e-01 -1.9518e-01  4.9542e-01  4.6434e-01  2.8676e-02\n",
      " -3.2328e-01 -2.2912e-01 -1.0846e-01  7.4751e-02  1.9630e-01  9.2830e-01\n",
      "  3.4753e-01 -2.2845e-01 -5.7626e-02 -1.9475e-01 -1.5422e-01  2.5627e-01\n",
      "  1.0862e+00 -2.4259e-01  2.6479e-01  2.0851e-01  5.9924e-01 -2.0119e-01\n",
      "  2.8459e-01  2.2108e-01  8.1928e-02  6.4911e-02  4.5134e-01 -9.2248e-01\n",
      " -6.3541e-01 -8.6245e-02 -5.4689e-01  2.1964e-01  3.0496e-01 -2.5695e-01\n",
      "  2.2484e-01 -3.0984e-01  1.2758e-01  1.0109e-01 -3.2874e-01  1.2935e-01\n",
      " -8.7196e-01  1.2193e-03  1.2921e-01 -1.2158e+00 -9.7884e-01  3.1955e-01\n",
      "  7.0111e-01 -4.4321e-02  1.3345e-01  4.0505e-01 -1.5676e-01 -9.4797e-02\n",
      " -4.9323e-01  4.7612e-02 -4.1518e+00 -4.0886e-01 -3.0467e-01  1.4018e-01\n",
      " -1.0525e-01 -5.1683e-01 -2.0616e-01  9.2721e-01 -7.0207e-01 -2.1796e-01\n",
      "  2.2035e-02  8.5640e-02 -2.3397e-01 -8.8407e-02  1.9469e-02  2.5186e-03\n",
      "  1.2422e-01 -1.3315e-01 -7.0345e-01 -4.5398e-01  2.0099e-01  2.6786e-01\n",
      "  2.6263e-01 -1.5726e-01  3.2610e-01 -1.0904e-01  3.9328e-01  1.2629e-01\n",
      " -3.7834e-02 -3.8130e-01 -2.3811e-02  1.1780e-01  8.3620e-02 -1.7298e-01\n",
      "  1.8870e-01 -7.4950e-02  1.2175e-02  1.7848e-01  7.5212e-02  1.6401e-01\n",
      " -3.5318e-01 -1.0642e-02 -4.9625e-01  3.8459e-02  3.9650e-01 -8.5031e-02\n",
      "  6.6139e-01  3.9729e-02]\n"
     ]
    }
   ],
   "source": [
    "print(embeddings_dictionary[\"join\"])"
   ]
  },
  {
   "cell_type": "code",
   "execution_count": 17,
   "metadata": {},
   "outputs": [],
   "source": [
    "num_words = min(MAX_NUM_WORDS, len(word2idx_inputs) + 1)\n",
    "embedding_matrix = zeros((num_words, EMBEDDING_SIZE))\n",
    "for word, index in word2idx_inputs.items():\n",
    "    embedding_vector = embeddings_dictionary.get(word)\n",
    "    if embedding_vector is not None:\n",
    "        embedding_matrix[index] = embedding_vector"
   ]
  },
  {
   "cell_type": "code",
   "execution_count": 18,
   "metadata": {},
   "outputs": [
    {
     "name": "stdout",
     "output_type": "stream",
     "text": [
      "[ 4.50590014e-01 -5.43439984e-01 -4.40980010e-02  1.83970004e-01\n",
      " -4.18960005e-02 -6.06509984e-01  5.10439992e-01  1.50790006e-01\n",
      "  3.93849984e-03 -1.22280002e-01 -3.12770009e-02  3.40240006e-03\n",
      " -1.09270000e+00  1.72759995e-01  2.84449995e-01 -5.01070023e-01\n",
      " -3.68270010e-01 -2.25339994e-01 -1.94419995e-01  2.17519999e-01\n",
      "  4.35299993e-01  1.41690001e-01  4.60049987e-01 -9.32290018e-01\n",
      " -9.34540033e-02  1.09469998e+00 -8.87800008e-03 -4.19609994e-01\n",
      "  2.54290015e-01  4.13619988e-02  1.91540003e-01 -3.28250006e-02\n",
      " -4.45579998e-02  1.93000004e-01 -2.25030005e-01  3.48369986e-01\n",
      " -1.54149994e-01  2.65360009e-02 -1.11469999e-01 -8.97450000e-03\n",
      "  1.81329995e-01 -3.86999995e-01 -9.14589986e-02  2.40260005e-01\n",
      " -3.84880006e-01 -5.34229994e-01  4.09379989e-01 -2.55549997e-01\n",
      "  1.03880003e-01  3.50190014e-01 -9.44890022e-01  2.58309990e-01\n",
      "  1.26940003e-02 -1.89830009e-02  3.06109995e-01  5.92909992e-01\n",
      " -2.33069994e-03  1.20930001e-03  9.30579975e-02  4.28530008e-01\n",
      "  1.06429998e-02  4.59409989e-02 -3.31699997e-02 -4.43800002e-01\n",
      " -2.22810000e-01  1.43570006e-01  1.91139996e-01  3.63610014e-02\n",
      "  1.13310002e-01 -3.59609991e-01  3.52279991e-02  7.77959973e-02\n",
      " -6.24389993e-03  4.38959986e-01  8.79549980e-02 -1.01920001e-01\n",
      " -3.84779990e-01 -6.35900021e-01  3.68319988e-01 -2.56529987e-01\n",
      "  1.01800001e+00 -3.52809995e-01  1.71529993e-01  8.08220029e-01\n",
      "  4.83619988e-01 -4.81530011e-01  1.92880005e-01 -1.29020005e-01\n",
      " -2.42310002e-01  2.26449996e-01 -1.32379994e-01  3.04380000e-01\n",
      " -2.51170009e-01 -6.51210025e-02  1.99300006e-01  1.70230001e-01\n",
      "  1.16410002e-01 -1.74789995e-01  2.12569997e-01  5.94319999e-01\n",
      "  5.02149984e-02 -1.02619998e-01  2.17240006e-01  1.00319996e-01\n",
      " -6.43479973e-02 -1.38679996e-01  2.39189997e-01 -3.53720009e-01\n",
      " -1.58849999e-03 -2.78259993e-01  1.12010002e-01 -3.36919993e-01\n",
      " -1.11720003e-01  4.99700010e-02 -2.25060001e-01 -2.22230002e-01\n",
      " -2.80140013e-01 -8.89889970e-02  1.66390002e-01  5.32729983e-01\n",
      " -2.34799996e-01  8.20899978e-02  2.00470001e-01 -7.09389985e-01\n",
      " -8.86569992e-02  7.75640011e-02 -2.90329993e-01  4.41359997e-01\n",
      "  5.20879984e-01 -2.50820011e-01  3.85960013e-01 -1.10299997e-01\n",
      "  1.02530003e-01 -4.31670010e-01 -1.72580004e-01 -2.49109998e-01\n",
      "  1.53819993e-01 -1.44480005e-01  8.56920034e-02 -1.17640004e-01\n",
      " -5.07309973e-01  2.41129994e-01 -3.43699992e-01  1.70320005e-03\n",
      "  4.81279999e-01 -6.89089969e-02 -2.12699994e-02  2.69230008e-01\n",
      " -2.80840009e-01  3.70550007e-02  2.94039994e-01  1.55100003e-01\n",
      " -5.06930017e+00  1.35920003e-01  5.99649996e-02  2.30639994e-01\n",
      "  1.41259998e-01  7.08540007e-02 -8.00869986e-02  1.87279999e-01\n",
      "  3.64730000e-01  3.59629989e-01 -2.93419987e-01  1.82579994e-01\n",
      "  2.20770001e-01 -1.08970001e-01 -5.71099995e-03 -3.25129986e-01\n",
      "  7.62880027e-01  4.82670009e-01  4.53259982e-02  3.99630010e-01\n",
      " -2.85569996e-01  2.54689991e-01  1.26589999e-01  3.11820000e-01\n",
      " -1.22589998e-01 -3.81769985e-02  2.74910003e-01  1.16039999e-01\n",
      "  6.96860030e-02  2.09880006e-02 -6.18749976e-01  5.27440012e-02\n",
      " -4.83909994e-02  2.11700007e-01 -3.84930015e-01  2.24000007e-01\n",
      " -4.04729992e-01  1.90329999e-02  1.25000000e-01  2.32549999e-02\n",
      " -1.53960004e-01  4.62359995e-01 -1.87040001e-01 -5.43020010e-01\n",
      " -3.22560012e-01  6.21879995e-01  4.18089986e-01 -2.22590007e-02]\n"
     ]
    }
   ],
   "source": [
    "print(embedding_matrix[464])"
   ]
  },
  {
   "cell_type": "markdown",
   "metadata": {},
   "source": [
    "### Creates the embedding layer for the input"
   ]
  },
  {
   "cell_type": "code",
   "execution_count": 19,
   "metadata": {},
   "outputs": [],
   "source": [
    "embedding_layer = Embedding(num_words, EMBEDDING_SIZE, weights=[embedding_matrix], input_length=max_input_len)"
   ]
  },
  {
   "cell_type": "markdown",
   "metadata": {},
   "source": [
    "## CREATING THE MODEL"
   ]
  },
  {
   "cell_type": "code",
   "execution_count": 20,
   "metadata": {},
   "outputs": [
    {
     "data": {
      "text/plain": [
       "(20000, 12, 9496)"
      ]
     },
     "execution_count": 20,
     "metadata": {},
     "output_type": "execute_result"
    }
   ],
   "source": [
    "decoder_targets_one_hot = np.zeros((\n",
    "        len(input_sentences),\n",
    "        max_out_len,\n",
    "        num_words_output\n",
    "    ),\n",
    "    dtype='float32'\n",
    ")\n",
    "decoder_targets_one_hot.shape"
   ]
  },
  {
   "cell_type": "code",
   "execution_count": 21,
   "metadata": {},
   "outputs": [],
   "source": [
    "for i, d in enumerate(decoder_output_sequences):\n",
    "    for t, word in enumerate(d):\n",
    "        decoder_targets_one_hot[i, t, word] = 1"
   ]
  },
  {
   "cell_type": "code",
   "execution_count": 22,
   "metadata": {},
   "outputs": [],
   "source": [
    "encoder_inputs = Input(shape=(max_input_len,))\n",
    "x = embedding_layer(encoder_inputs)\n",
    "encoder = LSTM(LSTM_NODES, return_state=True)\n",
    "\n",
    "encoder_outputs, h, c = encoder(x)\n",
    "encoder_states = [h, c]"
   ]
  },
  {
   "cell_type": "code",
   "execution_count": 23,
   "metadata": {},
   "outputs": [],
   "source": [
    "decoder_inputs = Input(shape=(max_out_len,))\n",
    "\n",
    "decoder_embedding = Embedding(num_words_output, LSTM_NODES)\n",
    "decoder_inputs_x = decoder_embedding(decoder_inputs)\n",
    "\n",
    "decoder_lstm = LSTM(LSTM_NODES, return_sequences=True, return_state=True)\n",
    "decoder_outputs, _, _ = decoder_lstm(decoder_inputs_x, initial_state=encoder_states)"
   ]
  },
  {
   "cell_type": "code",
   "execution_count": 24,
   "metadata": {},
   "outputs": [],
   "source": [
    "decoder_dense = Dense(num_words_output, activation='softmax')\n",
    "decoder_outputs = decoder_dense(decoder_outputs)"
   ]
  },
  {
   "cell_type": "code",
   "execution_count": 25,
   "metadata": {},
   "outputs": [
    {
     "name": "stdout",
     "output_type": "stream",
     "text": [
      "Model: \"model\"\n",
      "__________________________________________________________________________________________________\n",
      "Layer (type)                    Output Shape         Param #     Connected to                     \n",
      "==================================================================================================\n",
      "input_1 (InputLayer)            [(None, 5)]          0                                            \n",
      "__________________________________________________________________________________________________\n",
      "input_2 (InputLayer)            [(None, 12)]         0                                            \n",
      "__________________________________________________________________________________________________\n",
      "embedding (Embedding)           (None, 5, 200)       688000      input_1[0][0]                    \n",
      "__________________________________________________________________________________________________\n",
      "embedding_1 (Embedding)         (None, 12, 256)      2430976     input_2[0][0]                    \n",
      "__________________________________________________________________________________________________\n",
      "lstm (LSTM)                     [(None, 256), (None, 467968      embedding[0][0]                  \n",
      "__________________________________________________________________________________________________\n",
      "lstm_1 (LSTM)                   [(None, 12, 256), (N 525312      embedding_1[0][0]                \n",
      "                                                                 lstm[0][1]                       \n",
      "                                                                 lstm[0][2]                       \n",
      "__________________________________________________________________________________________________\n",
      "dense (Dense)                   (None, 12, 9496)     2440472     lstm_1[0][0]                     \n",
      "==================================================================================================\n",
      "Total params: 6,552,728\n",
      "Trainable params: 6,552,728\n",
      "Non-trainable params: 0\n",
      "__________________________________________________________________________________________________\n"
     ]
    }
   ],
   "source": [
    "#Compile\n",
    "model = Model([encoder_inputs,decoder_inputs], decoder_outputs)\n",
    "model.compile(\n",
    "    optimizer='rmsprop',\n",
    "    loss='categorical_crossentropy',\n",
    "    metrics=['accuracy']\n",
    ")\n",
    "model.summary()"
   ]
  },
  {
   "cell_type": "code",
   "execution_count": 27,
   "metadata": {},
   "outputs": [
    {
     "data": {
      "image/png": "[encoded data removed]",
      "text/plain": [
       "<IPython.core.display.Image object>"
      ]
     },
     "execution_count": 27,
     "metadata": {},
     "output_type": "execute_result"
    }
   ],
   "source": [
    "from tensorflow.keras.utils import plot_model\n",
    "plot_model(model, to_file='model_plot4a.png', show_shapes=True, show_layer_names=True)"
   ]
  },
  {
   "cell_type": "code",
   "execution_count": 28,
   "metadata": {},
   "outputs": [],
   "source": [
    "from keras.callbacks import EarlyStopping\n",
    "es = EarlyStopping(monitor='val_loss', mode='min', verbose=1)"
   ]
  },
  {
   "cell_type": "code",
   "execution_count": 29,
   "metadata": {},
   "outputs": [
    {
     "name": "stdout",
     "output_type": "stream",
     "text": [
      "Epoch 1/20\n",
      "282/282 [==============================] - 368s 1s/step - loss: 2.7086 - accuracy: 0.6717 - val_loss: 2.0425 - val_accuracy: 0.7098\n"
     ]
    }
   ],
   "source": [
    "history = model.fit([encoder_input_sequences, decoder_input_sequences], decoder_targets_one_hot,\n",
    "    batch_size=BATCH_SIZE,\n",
    "    epochs=20,\n",
    "    callbacks=[es],\n",
    "    validation_split=0.1,\n",
    ")"
   ]
  },
  {
   "cell_type": "code",
   "execution_count": 30,
   "metadata": {},
   "outputs": [],
   "source": [
    "model.save('seq2seq_eng-fra.h5')"
   ]
  },
  {
   "cell_type": "code",
   "execution_count": 31,
   "metadata": {},
   "outputs": [
    {
     "data": {
      "image/png": "[encoded data removed]",
      "text/plain": [
       "<Figure size 432x288 with 1 Axes>"
      ]
     },
     "metadata": {
      "needs_background": "light"
     },
     "output_type": "display_data"
    }
   ],
   "source": [
    "import matplotlib.pyplot as plt\n",
    "# %matplotlib inline\n",
    "plt.title('Model Loss')\n",
    "plt.plot(history.history['loss'])\n",
    "plt.plot(history.history['val_loss'])\n",
    "plt.ylabel('loss')\n",
    "plt.xlabel('epoch')\n",
    "plt.legend(['train', 'test'], loc='upper left')\n",
    "plt.show()"
   ]
  },
  {
   "cell_type": "code",
   "execution_count": 32,
   "metadata": {},
   "outputs": [],
   "source": [
    "encoder_model = Model(encoder_inputs, encoder_states)\n",
    "model.compile(optimizer='rmsprop', loss='categorical_crossentropy')\n",
    "model.load_weights('seq2seq_eng-fra.h5')"
   ]
  },
  {
   "cell_type": "code",
   "execution_count": 33,
   "metadata": {},
   "outputs": [],
   "source": [
    "decoder_state_input_h = Input(shape=(LSTM_NODES,))\n",
    "decoder_state_input_c = Input(shape=(LSTM_NODES,))\n",
    "decoder_states_inputs = [decoder_state_input_h, decoder_state_input_c]\n",
    "\n",
    "decoder_inputs_single = Input(shape=(1,))\n",
    "decoder_inputs_single_x = decoder_embedding(decoder_inputs_single)"
   ]
  },
  {
   "cell_type": "code",
   "execution_count": 34,
   "metadata": {},
   "outputs": [],
   "source": [
    "decoder_outputs, h, c = decoder_lstm(decoder_inputs_single_x, initial_state=decoder_states_inputs)"
   ]
  },
  {
   "cell_type": "code",
   "execution_count": 35,
   "metadata": {},
   "outputs": [],
   "source": [
    "decoder_states = [h, c]\n",
    "decoder_outputs = decoder_dense(decoder_outputs)"
   ]
  },
  {
   "cell_type": "code",
   "execution_count": 36,
   "metadata": {},
   "outputs": [],
   "source": [
    "decoder_model = Model(\n",
    "    [decoder_inputs_single] + decoder_states_inputs,\n",
    "    [decoder_outputs] + decoder_states\n",
    ")"
   ]
  },
  {
   "cell_type": "code",
   "execution_count": 38,
   "metadata": {},
   "outputs": [
    {
     "data": {
      "image/png": "[encoded data removed]",
      "text/plain": [
       "<IPython.core.display.Image object>"
      ]
     },
     "execution_count": 38,
     "metadata": {},
     "output_type": "execute_result"
    }
   ],
   "source": [
    "from tensorflow.keras.utils import plot_model\n",
    "plot_model(decoder_model, to_file='model_plot_dec.png', show_shapes=True, show_layer_names=True)"
   ]
  },
  {
   "cell_type": "markdown",
   "metadata": {},
   "source": [
    "## MAKING PREDICTIONS"
   ]
  },
  {
   "cell_type": "code",
   "execution_count": 39,
   "metadata": {},
   "outputs": [],
   "source": [
    "idx2word_input = {v:k for k, v in word2idx_inputs.items()}\n",
    "idx2word_target = {v:k for k, v in word2idx_outputs.items()}"
   ]
  },
  {
   "cell_type": "code",
   "execution_count": 40,
   "metadata": {},
   "outputs": [],
   "source": [
    "def translate_sentence(input_seq):\n",
    "    states_value = encoder_model.predict(input_seq)\n",
    "    target_seq = np.zeros((1, 1))\n",
    "    target_seq[0, 0] = word2idx_outputs['<sos>']\n",
    "    eos = word2idx_outputs['<eos>']\n",
    "    output_sentence = []\n",
    "\n",
    "    for _ in range(max_out_len):\n",
    "        output_tokens, h, c = decoder_model.predict([target_seq] + states_value)\n",
    "        idx = np.argmax(output_tokens[0, 0, :])\n",
    "\n",
    "        if eos == idx:\n",
    "            break\n",
    "\n",
    "        word = ''\n",
    "\n",
    "        if idx > 0:\n",
    "            word = idx2word_target[idx]\n",
    "            output_sentence.append(word)\n",
    "\n",
    "        target_seq[0, 0] = idx\n",
    "        states_value = [h, c]\n",
    "\n",
    "    return ' '.join(output_sentence)"
   ]
  },
  {
   "cell_type": "markdown",
   "metadata": {},
   "source": [
    "## SAMPLE PREDICTIONS"
   ]
  },
  {
   "cell_type": "code",
   "execution_count": 41,
   "metadata": {},
   "outputs": [
    {
     "name": "stdout",
     "output_type": "stream",
     "text": [
      "Input Language :  Tom'll recover.\n",
      "Actual translation :  Tom s'en remettra. <eos>\n",
      "French translation :  c'est sont !\n"
     ]
    }
   ],
   "source": [
    "i = np.random.choice(len(input_sentences))\n",
    "input_seq = encoder_input_sequences[i:i+1]\n",
    "translation = translate_sentence(input_seq)\n",
    "print('Input Language : ', input_sentences[i])\n",
    "print('Actual translation : ', output_sentences[i])\n",
    "print('French translation : ', translation)\n"
   ]
  },
  {
   "cell_type": "code",
   "execution_count": 42,
   "metadata": {},
   "outputs": [
    {
     "name": "stdout",
     "output_type": "stream",
     "text": [
      "Input Language :  You're so bossy.\n",
      "Actual translation :  Tu es tellement autoritaire ! <eos>\n",
      "French translation :  tu êtes pas\n"
     ]
    }
   ],
   "source": [
    "i = np.random.choice(len(input_sentences))\n",
    "input_seq = encoder_input_sequences[i:i+1]\n",
    "translation = translate_sentence(input_seq)\n",
    "print('Input Language : ', input_sentences[i])\n",
    "print('Actual translation : ', output_sentences[i])\n",
    "print('French translation : ', translation)"
   ]
  },
  {
   "cell_type": "code",
   "execution_count": 43,
   "metadata": {},
   "outputs": [
    {
     "name": "stdout",
     "output_type": "stream",
     "text": [
      "Input Language :  It was a miracle.\n",
      "Actual translation :  C'était un miracle. <eos>\n",
      "French translation :  c'est est ?\n"
     ]
    }
   ],
   "source": [
    "i = np.random.choice(len(input_sentences))\n",
    "input_seq = encoder_input_sequences[i:i+1]\n",
    "translation = translate_sentence(input_seq)\n",
    "print('Input Language : ', input_sentences[i])\n",
    "print('Actual translation : ', output_sentences[i])\n",
    "print('French translation : ', translation)"
   ]
  },
  {
   "cell_type": "code",
   "execution_count": 44,
   "metadata": {},
   "outputs": [
    {
     "name": "stdout",
     "output_type": "stream",
     "text": [
      "Input Language :  Planning is key.\n",
      "Actual translation :  La planification est essentielle. <eos>\n",
      "French translation :  c'est est ?\n"
     ]
    }
   ],
   "source": [
    "i = np.random.choice(len(input_sentences))\n",
    "input_seq = encoder_input_sequences[i:i+1]\n",
    "translation = translate_sentence(input_seq)\n",
    "print('Input Language : ', input_sentences[i])\n",
    "print('Actual translation : ', output_sentences[i])\n",
    "print('French translation : ', translation)"
   ]
  },
  {
   "cell_type": "code",
   "execution_count": 45,
   "metadata": {},
   "outputs": [
    {
     "name": "stdout",
     "output_type": "stream",
     "text": [
      "Input Language :  Keep quiet.\n",
      "Actual translation :  Restez tranquille. <eos>\n",
      "French translation :  restez !\n"
     ]
    }
   ],
   "source": [
    "i = np.random.choice(len(input_sentences))\n",
    "input_seq = encoder_input_sequences[i:i+1]\n",
    "translation = translate_sentence(input_seq)\n",
    "print('Input Language : ', input_sentences[i])\n",
    "print('Actual translation : ', output_sentences[i])\n",
    "print('French translation : ', translation)"
   ]
  },
  {
   "cell_type": "code",
   "execution_count": null,
   "metadata": {},
   "outputs": [],
   "source": []
  },
  {
   "cell_type": "code",
   "execution_count": null,
   "metadata": {},
   "outputs": [],
   "source": []
  },
  {
   "cell_type": "code",
   "execution_count": null,
   "metadata": {},
   "outputs": [],
   "source": []
  }
 ],
 "metadata": {
  "kernelspec": {
   "display_name": "Python 3",
   "language": "python",
   "name": "python3"
  },
  "language_info": {
   "codemirror_mode": {
    "name": "ipython",
    "version": 3
   },
   "file_extension": ".py",
   "mimetype": "text/x-python",
   "name": "python",
   "nbconvert_exporter": "python",
   "pygments_lexer": "ipython3",
   "version": "3.8.5"
  }
 },
 "nbformat": 4,
 "nbformat_minor": 4
}
